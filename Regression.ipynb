{
  "nbformat": 4,
  "nbformat_minor": 0,
  "metadata": {
    "colab": {
      "provenance": [],
      "toc_visible": true
    },
    "kernelspec": {
      "name": "python3",
      "display_name": "Python 3"
    },
    "language_info": {
      "name": "python"
    }
  },
  "cells": [
    {
      "cell_type": "code",
      "execution_count": 1,
      "metadata": {
        "id": "LYl9t48yOrwU"
      },
      "outputs": [],
      "source": [
        "import numpy as np\n",
        "import matplotlib.pyplot as plt"
      ]
    },
    {
      "cell_type": "markdown",
      "source": [
        "##Linear Regression"
      ],
      "metadata": {
        "id": "rJrA1zh_Ou-d"
      }
    },
    {
      "cell_type": "code",
      "source": [
        "# 1. Generate synthetic data\n",
        "np.random.seed(0)\n",
        "X = 2 * np.random.rand(100,1)\n",
        "y = 4 + 3 * X + np.random.randn(100,1)\n",
        "\n",
        "# 2. Split data\n",
        "indices = np.random.permutation(len(X))\n",
        "train_idx, test_idx, valid_idx = indices[:60], indices[60:80], indices[80:]\n",
        "X_train, X_test, X_valid = X[train_idx], X[test_idx], X[valid_idx]\n",
        "y_train, y_test, y_valid = y[train_idx], y[test_idx], y[valid_idx]\n",
        "\n",
        "# 3. Define Linear Regression with L2 regularization\n",
        "def compute_cost(X, y, theta, lambda_reg):\n",
        "    m = len(X)\n",
        "    prediction = X.dot(theta) # X * theta = y\n",
        "    regularizer = (lambda_reg/(2*m)) * np.sum(np.square(theta))\n",
        "    return (1/(2*m)) * np.sum(np.square(prediction - y)) + regularizer\n",
        "\n",
        "\n",
        "def gradient_descent(X, y, theta, learning_rate, num_iterations, lambda_reg):\n",
        "    m = len(X)\n",
        "    cost_history = np.zeros(num_iterations)\n",
        "    for i in range(num_iterations):\n",
        "        gradients = (1/m) * X.T.dot(X.dot(theta) - y) + (lambda_reg/m) * theta\n",
        "        theta -= learning_rate * gradients\n",
        "        cost_history[i] = compute_cost(X, y, theta, lambda_reg)\n",
        "    return theta, cost_history\n",
        "\n",
        "\n",
        "def r_squared(y_true, y_pred):\n",
        "    # Impelement r-squared\n",
        "    pass\n",
        "\n",
        "# 4. Train the model\n",
        "m = len(X_train)\n",
        "X_b_train = np.c_[np.ones((m, 1)), X_train]\n",
        "X_b_valid = np.c_[np.ones((len(X_valid), 1)), X_valid]\n",
        "initial_theta = np.random.randn(2, 1)\n",
        "learning_rate = 0.1\n",
        "num_iterations = 1000\n",
        "lambda_reg = 0.1\n",
        "\n",
        "theta, cost_history = gradient_descent(X_b_train, y_train, initial_theta, learning_rate, num_iterations, lambda_reg)\n",
        "train_predictions = X_b_train.dot(theta)\n",
        "valid_predictions = X_b_valid.dot(theta)\n",
        "print(\"Theta is \", theta)\n",
        "\n",
        "# 5. Check datasets\n",
        "print(f\"R^2 for training data: {r_squared(y_train, train_predictions)}\")\n",
        "print(f\"R^2 for validation data: {r_squared(y_valid, valid_predictions)}\")\n",
        "\n",
        "# 6. Visualize the MSE\n",
        "plt.plot(cost_history, label=\"Training MSE\")\n",
        "plt.xlabel(\"Iteration\")\n",
        "plt.ylabel(\"MSE\")\n",
        "plt.title(\"MSE vs. Iteration\")\n",
        "plt.legend()\n",
        "plt.show()\n",
        "\n",
        "# 7. Check for overfitting\n",
        "training_error = compute_cost(X_b_train, y_train, theta, lambda_reg)\n",
        "validation_error = compute_cost(X_b_valid, y_valid, theta, lambda_reg)\n",
        "\n",
        "print(f\"Training Error: {training_error}\")\n",
        "print(f\"Validation Error: {validation_error}\")\n",
        "\n",
        "if validation_error > training_error:\n",
        "    print(\"The model might be overfitting!\")\n",
        "else:\n",
        "    print(\"The model seems fine.\")"
      ],
      "metadata": {
        "colab": {
          "base_uri": "https://localhost:8080/",
          "height": 561
        },
        "id": "svmtCwa2Oxzt",
        "outputId": "2fb78edb-6018-4161-b02d-98ba5d9e4a98"
      },
      "execution_count": 5,
      "outputs": [
        {
          "output_type": "stream",
          "name": "stdout",
          "text": [
            "Theta is  [[4.0411387 ]\n",
            " [3.07949735]]\n"
          ]
        },
        {
          "output_type": "display_data",
          "data": {
            "text/plain": [
              "<Figure size 640x480 with 1 Axes>"
            ],
            "image/png": "[encoded data removed]"
          },
          "metadata": {}
        },
        {
          "output_type": "stream",
          "name": "stdout",
          "text": [
            "Training Error: 0.6068484252574063\n",
            "Validation Error: 0.40295265066239494\n",
            "The model seems fine.\n"
          ]
        }
      ]
    }
  ]
}
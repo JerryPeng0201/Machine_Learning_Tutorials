{
  "nbformat": 4,
  "nbformat_minor": 0,
  "metadata": {
    "colab": {
      "provenance": [],
      "toc_visible": true
    },
    "kernelspec": {
      "name": "python3",
      "display_name": "Python 3"
    },
    "language_info": {
      "name": "python"
    }
  },
  "cells": [
    {
      "cell_type": "markdown",
      "source": [
        "#Tensor!"
      ],
      "metadata": {
        "id": "sVl3FR3F3qV0"
      }
    },
    {
      "cell_type": "code",
      "execution_count": 15,
      "metadata": {
        "id": "J_blCC8qdnNG"
      },
      "outputs": [],
      "source": [
        "import tensorflow as tf\n",
        "import numpy as np"
      ]
    },
    {
      "cell_type": "markdown",
      "source": [
        "##Constructors\n",
        "A tensor is an N-dimensional array of data. They behave like numpy n-dimension except that:\n",
        "\n",
        "<li>tf.constant produces constant tensors\n",
        "<li>tf.Variable produces tensor that can be modifies"
      ],
      "metadata": {
        "id": "Nokki0Wz0p97"
      }
    },
    {
      "cell_type": "code",
      "source": [
        "# A scalar is a tensor type with 0 dimension\n",
        "x = tf.constant(3) # Shape: ()\n",
        "\n",
        "# A vector is a tensor type with 1 dimension\n",
        "x = tf.constant([3, 5, 7]) # Shape: (3,)\n",
        "\n",
        "# A matrix is a tensor type with 2 dimensions\n",
        "x = tf.constant([[3, 5, 7], [4, 6, 8]]) # Shape: (2,3)\n",
        "\n",
        "# A 3D tensor has 3 dimensions\n",
        "x = tf.constant([[[1, 2, 3], [4, 5, 6]],\n",
        " [[7, 8, 9], [10, 11, 12]]]) # Shape: (2, 2, 3)\n",
        "\n",
        "# An n-d tensor has n dimensions\n",
        "x1 = tf.constant([2, 3, 4]) # Shape: (3,)\n",
        "x2 = tf.stack([x1, x1]) # Shape: (2,3)\n",
        "x3 = tf.stack([x2, x2, x2, x2]) # Shape: (4,2,3)\n",
        "x4 = tf.stack([x3, x3]) # Shape: (2,4,2,3)"
      ],
      "metadata": {
        "id": "WNXjOjUeeWsT"
      },
      "execution_count": 2,
      "outputs": []
    },
    {
      "cell_type": "code",
      "source": [
        "# Tensor can be sliced\n",
        "x = tf.constant([\n",
        "    [3, 5, 7],\n",
        "    [4, 6, 8]\n",
        "]) # Shape: (2,3)\n",
        "y = x[:,1] # Shape: (2,)\n",
        "print(y)"
      ],
      "metadata": {
        "colab": {
          "base_uri": "https://localhost:8080/"
        },
        "id": "xG3yUaPZ46gq",
        "outputId": "6c0e25c2-b3aa-4967-8b10-06f6ffe734db"
      },
      "execution_count": 5,
      "outputs": [
        {
          "output_type": "stream",
          "name": "stdout",
          "text": [
            "tf.Tensor([5 6], shape=(2,), dtype=int32)\n"
          ]
        }
      ]
    },
    {
      "cell_type": "code",
      "source": [
        "# Tensor can be reshaped\n",
        "x = tf.constant([\n",
        "    [3, 5, 7],\n",
        "    [4, 6, 8]\n",
        "]) # Shape: (2,3)\n",
        "y = tf.reshape(x, [3,2]) # Shape: (3,2)\n",
        "print(y)"
      ],
      "metadata": {
        "colab": {
          "base_uri": "https://localhost:8080/"
        },
        "id": "sSJIewEjxjyA",
        "outputId": "e70d3663-c009-4391-c5cd-88a173f09abb"
      },
      "execution_count": 6,
      "outputs": [
        {
          "output_type": "stream",
          "name": "stdout",
          "text": [
            "tf.Tensor(\n",
            "[[3 5]\n",
            " [7 4]\n",
            " [6 8]], shape=(3, 2), dtype=int32)\n"
          ]
        }
      ]
    },
    {
      "cell_type": "markdown",
      "source": [
        "A Variable is a tensor whose value can be changes.\n",
        "\n",
        "The variable constructor requires an initial value for the variable, which can be a tensor of any shape and type. These initial values define the type and the shape of the variable. After construction, the type and the shape of the variable are fixed."
      ],
      "metadata": {
        "id": "0Kn2j85E2SZn"
      }
    },
    {
      "cell_type": "code",
      "source": [
        "x = tf.Variable(2.0, dtype=tf.float32, name='my_var') # Shape: (), x -> 2.0\n",
        "print(x)"
      ],
      "metadata": {
        "colab": {
          "base_uri": "https://localhost:8080/"
        },
        "id": "BTrWtGC76GPZ",
        "outputId": "e994e142-7559-4227-c7ed-fa83d6f7d39c"
      },
      "execution_count": 7,
      "outputs": [
        {
          "output_type": "stream",
          "name": "stdout",
          "text": [
            "<tf.Variable 'my_var:0' shape=() dtype=float32, numpy=2.0>\n"
          ]
        }
      ]
    },
    {
      "cell_type": "markdown",
      "source": [
        "The value of the Variable can be modified"
      ],
      "metadata": {
        "id": "js8wuRtf-6e-"
      }
    },
    {
      "cell_type": "code",
      "source": [
        "x.assign(45.8) # x -> 45.8\n",
        "print(x)"
      ],
      "metadata": {
        "colab": {
          "base_uri": "https://localhost:8080/"
        },
        "id": "l5cfW9dy-beg",
        "outputId": "f58d88b4-e16d-4f08-f6ed-99f1ef7db4e8"
      },
      "execution_count": 8,
      "outputs": [
        {
          "output_type": "stream",
          "name": "stdout",
          "text": [
            "<tf.Variable 'my_var:0' shape=() dtype=float32, numpy=45.8>\n"
          ]
        }
      ]
    },
    {
      "cell_type": "code",
      "source": [
        "x.assign_add(4) # x -> x + 4\n",
        "print(x)"
      ],
      "metadata": {
        "colab": {
          "base_uri": "https://localhost:8080/"
        },
        "id": "ejURg2T8-oLp",
        "outputId": "aa79d7cf-75c0-4db8-f288-48d54e8d35fd"
      },
      "execution_count": 9,
      "outputs": [
        {
          "output_type": "stream",
          "name": "stdout",
          "text": [
            "<tf.Variable 'my_var:0' shape=() dtype=float32, numpy=49.8>\n"
          ]
        }
      ]
    },
    {
      "cell_type": "code",
      "source": [
        "x.assign_sub(3) # x -> x - 3\n",
        "print(x)"
      ],
      "metadata": {
        "colab": {
          "base_uri": "https://localhost:8080/"
        },
        "id": "p3Q_VqWp-twJ",
        "outputId": "67c47740-7a67-4a87-c169-dd4c237752fc"
      },
      "execution_count": 10,
      "outputs": [
        {
          "output_type": "stream",
          "name": "stdout",
          "text": [
            "<tf.Variable 'my_var:0' shape=() dtype=float32, numpy=46.8>\n"
          ]
        }
      ]
    },
    {
      "cell_type": "markdown",
      "source": [
        "tf.Variable will typically hold model weights that need to be updated in a training loop"
      ],
      "metadata": {
        "id": "RzCAVASx_HFh"
      }
    },
    {
      "cell_type": "code",
      "source": [
        "# Linear regression: y = w*X\n",
        "w = tf.Variable([[1.], [2.]])\n",
        "X = tf.constant([[3., 4.]])\n",
        "tf.matmul(w, X)"
      ],
      "metadata": {
        "colab": {
          "base_uri": "https://localhost:8080/"
        },
        "id": "bbyjGoH1AhgM",
        "outputId": "c27a128a-e05a-4a27-a803-7f50ff313b86"
      },
      "execution_count": 14,
      "outputs": [
        {
          "output_type": "execute_result",
          "data": {
            "text/plain": [
              "<tf.Tensor: shape=(2, 2), dtype=float32, numpy=\n",
              "array([[3., 4.],\n",
              "       [6., 8.]], dtype=float32)>"
            ]
          },
          "metadata": {},
          "execution_count": 14
        }
      ]
    },
    {
      "cell_type": "markdown",
      "source": [
        "##Tensor Operations"
      ],
      "metadata": {
        "id": "OBj4hqJos9T9"
      }
    },
    {
      "cell_type": "markdown",
      "source": [
        "You can convert a tensor to a NumPy array either using `np.array` or the `tensor.numpy` method:\n",
        "\n"
      ],
      "metadata": {
        "id": "6XqkLxdFtcKZ"
      }
    },
    {
      "cell_type": "code",
      "source": [
        "x = tf.constant([[1, 2], [3, 4], [5, 6]], dtype=tf.float16)\n",
        "np.array(x)"
      ],
      "metadata": {
        "colab": {
          "base_uri": "https://localhost:8080/"
        },
        "id": "JFmw1RdEs_VQ",
        "outputId": "302f7a0c-a210-49b0-e5be-5618fcdc5c9b"
      },
      "execution_count": 16,
      "outputs": [
        {
          "output_type": "execute_result",
          "data": {
            "text/plain": [
              "array([[1., 2.],\n",
              "       [3., 4.],\n",
              "       [5., 6.]], dtype=float16)"
            ]
          },
          "metadata": {},
          "execution_count": 16
        }
      ]
    },
    {
      "cell_type": "code",
      "source": [
        "x.numpy()"
      ],
      "metadata": {
        "colab": {
          "base_uri": "https://localhost:8080/"
        },
        "id": "aSfOK7leuTKT",
        "outputId": "6865c046-21a1-4598-e9c2-6fb8021f1e21"
      },
      "execution_count": 17,
      "outputs": [
        {
          "output_type": "execute_result",
          "data": {
            "text/plain": [
              "array([[1., 2.],\n",
              "       [3., 4.],\n",
              "       [5., 6.]], dtype=float16)"
            ]
          },
          "metadata": {},
          "execution_count": 17
        }
      ]
    },
    {
      "cell_type": "markdown",
      "source": [
        "You can do basic math on tensors, including addition, element-wise multiplication, and matrix multiplication."
      ],
      "metadata": {
        "id": "qd9bxq7vvVGk"
      }
    },
    {
      "cell_type": "code",
      "source": [
        "a = tf.constant([[1, 2],\n",
        "                 [3, 4]])\n",
        "b = tf.constant([[1, 1],\n",
        "                 [1, 1]]) # Could have also said `tf.ones([2,2], dtype=tf.int32)`"
      ],
      "metadata": {
        "id": "Zf4TD1wwvVvv"
      },
      "execution_count": 21,
      "outputs": []
    },
    {
      "cell_type": "code",
      "source": [
        "tf.add(a, b)"
      ],
      "metadata": {
        "colab": {
          "base_uri": "https://localhost:8080/"
        },
        "id": "AG9JZSWIvefn",
        "outputId": "2ca067ea-60a9-4922-9969-1373b3a39605"
      },
      "execution_count": 19,
      "outputs": [
        {
          "output_type": "execute_result",
          "data": {
            "text/plain": [
              "<tf.Tensor: shape=(2, 2), dtype=int32, numpy=\n",
              "array([[2, 3],\n",
              "       [4, 5]], dtype=int32)>"
            ]
          },
          "metadata": {},
          "execution_count": 19
        }
      ]
    },
    {
      "cell_type": "code",
      "source": [
        "tf.multiply(a, b)"
      ],
      "metadata": {
        "colab": {
          "base_uri": "https://localhost:8080/"
        },
        "id": "zvfP-bgGvhW8",
        "outputId": "e03b0595-183c-4592-ee8f-f3c2a95599ba"
      },
      "execution_count": 20,
      "outputs": [
        {
          "output_type": "execute_result",
          "data": {
            "text/plain": [
              "<tf.Tensor: shape=(2, 2), dtype=int32, numpy=\n",
              "array([[1, 2],\n",
              "       [3, 4]], dtype=int32)>"
            ]
          },
          "metadata": {},
          "execution_count": 20
        }
      ]
    },
    {
      "cell_type": "code",
      "source": [
        "tf.matmul(a, b)"
      ],
      "metadata": {
        "colab": {
          "base_uri": "https://localhost:8080/"
        },
        "id": "3j3XCWKZvkpp",
        "outputId": "cb87c30d-6a55-4247-efff-a8bc1fd9dad8"
      },
      "execution_count": 22,
      "outputs": [
        {
          "output_type": "execute_result",
          "data": {
            "text/plain": [
              "<tf.Tensor: shape=(2, 2), dtype=int32, numpy=\n",
              "array([[3, 3],\n",
              "       [7, 7]], dtype=int32)>"
            ]
          },
          "metadata": {},
          "execution_count": 22
        }
      ]
    },
    {
      "cell_type": "code",
      "source": [
        "# Element-wise addition\n",
        "a + b"
      ],
      "metadata": {
        "colab": {
          "base_uri": "https://localhost:8080/"
        },
        "id": "RvfK3hTFv7Us",
        "outputId": "a72a0be5-f134-4902-b871-508ef508380f"
      },
      "execution_count": 23,
      "outputs": [
        {
          "output_type": "execute_result",
          "data": {
            "text/plain": [
              "<tf.Tensor: shape=(2, 2), dtype=int32, numpy=\n",
              "array([[2, 3],\n",
              "       [4, 5]], dtype=int32)>"
            ]
          },
          "metadata": {},
          "execution_count": 23
        }
      ]
    },
    {
      "cell_type": "code",
      "source": [
        "# Element-wise multiplication\n",
        "a * b"
      ],
      "metadata": {
        "colab": {
          "base_uri": "https://localhost:8080/"
        },
        "id": "aDkEUH5fwBz4",
        "outputId": "8892fed0-9e2e-4c69-82c6-13c526705f8d"
      },
      "execution_count": 24,
      "outputs": [
        {
          "output_type": "execute_result",
          "data": {
            "text/plain": [
              "<tf.Tensor: shape=(2, 2), dtype=int32, numpy=\n",
              "array([[1, 2],\n",
              "       [3, 4]], dtype=int32)>"
            ]
          },
          "metadata": {},
          "execution_count": 24
        }
      ]
    },
    {
      "cell_type": "code",
      "source": [
        "# Matrix multiplication\n",
        "a @ b"
      ],
      "metadata": {
        "colab": {
          "base_uri": "https://localhost:8080/"
        },
        "id": "cUHUA0inwHeK",
        "outputId": "4c3b63d9-bccf-4b72-d0e6-a6ebaed94873"
      },
      "execution_count": 25,
      "outputs": [
        {
          "output_type": "execute_result",
          "data": {
            "text/plain": [
              "<tf.Tensor: shape=(2, 2), dtype=int32, numpy=\n",
              "array([[3, 3],\n",
              "       [7, 7]], dtype=int32)>"
            ]
          },
          "metadata": {},
          "execution_count": 25
        }
      ]
    },
    {
      "cell_type": "markdown",
      "source": [
        "Other types of operations"
      ],
      "metadata": {
        "id": "7-mRn7uIwSwK"
      }
    },
    {
      "cell_type": "code",
      "source": [
        "x = tf.constant([[4.0, 5.0], [10.0, 1.0]])"
      ],
      "metadata": {
        "id": "5MPCQ59BxGSN"
      },
      "execution_count": 27,
      "outputs": []
    },
    {
      "cell_type": "code",
      "source": [
        "# Find the largest value\n",
        "tf.reduce_max(x)"
      ],
      "metadata": {
        "colab": {
          "base_uri": "https://localhost:8080/"
        },
        "id": "vcjXkqJTwUaz",
        "outputId": "e563eb30-6dfe-4ddc-92b4-cbd47837ad41"
      },
      "execution_count": 28,
      "outputs": [
        {
          "output_type": "execute_result",
          "data": {
            "text/plain": [
              "<tf.Tensor: shape=(), dtype=float32, numpy=10.0>"
            ]
          },
          "metadata": {},
          "execution_count": 28
        }
      ]
    },
    {
      "cell_type": "code",
      "source": [
        "# Find the index of the largest value\n",
        "tf.math.argmax(x)"
      ],
      "metadata": {
        "colab": {
          "base_uri": "https://localhost:8080/"
        },
        "id": "aG0OseKixN-I",
        "outputId": "f41919d7-3c0e-4f0f-a9d8-6b38bd7341eb"
      },
      "execution_count": 30,
      "outputs": [
        {
          "output_type": "execute_result",
          "data": {
            "text/plain": [
              "<tf.Tensor: shape=(2,), dtype=int64, numpy=array([1, 0])>"
            ]
          },
          "metadata": {},
          "execution_count": 30
        }
      ]
    },
    {
      "cell_type": "code",
      "source": [
        "# Compute the soft argmax\n",
        "tf.nn.softmax(x)"
      ],
      "metadata": {
        "colab": {
          "base_uri": "https://localhost:8080/"
        },
        "id": "GOfkZWNWxoUl",
        "outputId": "b9d74a53-02c9-4fe6-c3eb-935e99529bff"
      },
      "execution_count": 31,
      "outputs": [
        {
          "output_type": "execute_result",
          "data": {
            "text/plain": [
              "<tf.Tensor: shape=(2, 2), dtype=float32, numpy=\n",
              "array([[2.6894143e-01, 7.3105860e-01],\n",
              "       [9.9987662e-01, 1.2339458e-04]], dtype=float32)>"
            ]
          },
          "metadata": {},
          "execution_count": 31
        }
      ]
    }
  ]
}
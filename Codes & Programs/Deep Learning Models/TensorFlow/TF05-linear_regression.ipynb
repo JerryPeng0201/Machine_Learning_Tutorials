{
  "nbformat": 4,
  "nbformat_minor": 0,
  "metadata": {
    "colab": {
      "provenance": [],
      "toc_visible": true
    },
    "kernelspec": {
      "name": "python3",
      "display_name": "Python 3"
    },
    "language_info": {
      "name": "python"
    }
  },
  "cells": [
    {
      "cell_type": "markdown",
      "source": [
        "#Linear Regression\n",
        "\n",
        "Tutorial of using TensorFlow to build linear regression model"
      ],
      "metadata": {
        "id": "5ySfrhJZ4MJt"
      }
    },
    {
      "cell_type": "code",
      "source": [
        "import numpy as np\n",
        "from matplotlib import pyplot as plt\n",
        "import tensorflow as tf"
      ],
      "metadata": {
        "id": "XRt6iXBu4YHG"
      },
      "execution_count": 1,
      "outputs": []
    },
    {
      "cell_type": "markdown",
      "source": [
        "##Generate toy dataset"
      ],
      "metadata": {
        "id": "ptsvazjj4cxf"
      }
    },
    {
      "cell_type": "code",
      "source": [
        "# Generate train dataset\n",
        "X = tf.constant(range(10), dtype=tf.float32)\n",
        "Y = 2 * X + 1\n",
        "\n",
        "print(\"X:{}\".format(X))\n",
        "print(\"Y:{}\".format(Y))"
      ],
      "metadata": {
        "colab": {
          "base_uri": "https://localhost:8080/"
        },
        "id": "CjjKuxq44g5c",
        "outputId": "ab69e795-d854-47ac-f61e-9acf34f9080b"
      },
      "execution_count": 2,
      "outputs": [
        {
          "output_type": "stream",
          "name": "stdout",
          "text": [
            "X:[0. 1. 2. 3. 4. 5. 6. 7. 8. 9.]\n",
            "Y:[ 1.  3.  5.  7.  9. 11. 13. 15. 17. 19.]\n"
          ]
        }
      ]
    },
    {
      "cell_type": "code",
      "source": [
        "def create_dataset(X, Y, epochs, batch_size):\n",
        "    dataset = tf.data.Dataset.from_tensor_slices((X, Y))\n",
        "    dataset = dataset.repeat(epochs).batch(batch_size, drop_remainder=True)\n",
        "    return dataset"
      ],
      "metadata": {
        "id": "s6XouCDu6kxI"
      },
      "execution_count": 6,
      "outputs": []
    },
    {
      "cell_type": "code",
      "source": [
        "BATCH_SIZE = 3\n",
        "EPOCHS = 2\n",
        "\n",
        "dataset = create_dataset(X, Y, EPOCHS, BATCH_SIZE)\n",
        "\n",
        "for i, (x, y) in enumerate(dataset):\n",
        "# You can convert a native TF tensor to a NumPy array using .numpy() method\n",
        "# Let's output the value of `x` and `y`\n",
        "    print(\"x:\", x.numpy(), \"y:\", y.numpy())\n",
        "    assert len(x) == BATCH_SIZE\n",
        "    assert len(y) == BATCH_SIZE"
      ],
      "metadata": {
        "colab": {
          "base_uri": "https://localhost:8080/"
        },
        "id": "mmnDMwrs7aFF",
        "outputId": "a0420fd4-9e3c-4577-9cd9-25831a64cdd2"
      },
      "execution_count": 7,
      "outputs": [
        {
          "output_type": "stream",
          "name": "stdout",
          "text": [
            "x: [0. 1. 2.] y: [1. 3. 5.]\n",
            "x: [3. 4. 5.] y: [ 7.  9. 11.]\n",
            "x: [6. 7. 8.] y: [13. 15. 17.]\n",
            "x: [9. 0. 1.] y: [19.  1.  3.]\n",
            "x: [2. 3. 4.] y: [5. 7. 9.]\n",
            "x: [5. 6. 7.] y: [11. 13. 15.]\n"
          ]
        }
      ]
    },
    {
      "cell_type": "markdown",
      "source": [
        "##Loss function & Gradient"
      ],
      "metadata": {
        "id": "mRY7Zrjp7eVg"
      }
    },
    {
      "cell_type": "code",
      "source": [
        "# Compute loss\n",
        "def loss_mse(X, Y, w, b):\n",
        "    y_pred = X * w + b\n",
        "    error = (y_pred - Y) ** 2\n",
        "    return tf.reduce_mean(error)\n",
        "\n",
        "# Compure gradient\n",
        "def compute_gradients(X, Y, w, b):\n",
        "    with tf.GradientTape() as tape:\n",
        "        loss = loss_mse(X, Y, w, b)\n",
        "    return tape.gradient(loss, [w, b])"
      ],
      "metadata": {
        "id": "IEkP9u9S7iMw"
      },
      "execution_count": 8,
      "outputs": []
    },
    {
      "cell_type": "markdown",
      "source": [
        "##Training loop"
      ],
      "metadata": {
        "id": "wBF-9YLA87yL"
      }
    },
    {
      "cell_type": "code",
      "source": [
        "# Constant values\n",
        "EPOCHS = 250\n",
        "BATCH_SIZE = 2\n",
        "LEARNING_RATE = 0.01\n",
        "\n",
        "MSG = \"STEP {step} - loss: {loss}, w: {w}, b: {b}\\n\"\n",
        "\n",
        "# Initialize a list to store losses\n",
        "loss_history = []\n",
        "\n",
        "# Initialize the weight and the bias\n",
        "w = tf.Variable(0.0)\n",
        "b = tf.Variable(0.0)\n",
        "\n",
        "# Initialize the dataset\n",
        "dataset = create_dataset(X, Y, EPOCHS, BATCH_SIZE)\n",
        "\n",
        "# Training loop\n",
        "for step, (X_batch, Y_batch) in enumerate(dataset):\n",
        "    # Compute the gradient\n",
        "    dw, db = compute_gradients(X_batch, Y_batch, w, b)\n",
        "\n",
        "    # Update parameters by using gradient descent\n",
        "    w.assign_sub(dw * LEARNING_RATE)\n",
        "    b.assign_sub(db * LEARNING_RATE)\n",
        "\n",
        "    if step % 100 == 0:\n",
        "        loss = loss_mse(X_batch, Y_batch, w, b)\n",
        "        print(MSG.format(step=step, loss=loss, w=w.numpy(), b=b.numpy()))\n",
        "        loss_history.append(loss)"
      ],
      "metadata": {
        "colab": {
          "base_uri": "https://localhost:8080/"
        },
        "id": "xOosOaXC8_kF",
        "outputId": "2f3239ed-994e-4340-9971-1dbe568219ce"
      },
      "execution_count": 12,
      "outputs": [
        {
          "output_type": "stream",
          "name": "stdout",
          "text": [
            "STEP 0 - loss: 4.753250598907471, w: 0.029999999329447746, b: 0.03999999910593033\n",
            "\n",
            "STEP 100 - loss: 0.07761245965957642, w: 2.032413959503174, b: 0.7056747674942017\n",
            "\n",
            "STEP 200 - loss: 0.02268073707818985, w: 2.0175225734710693, b: 0.840892493724823\n",
            "\n",
            "STEP 300 - loss: 0.006628049537539482, w: 2.009472370147705, b: 0.9139888882637024\n",
            "\n",
            "STEP 400 - loss: 0.0019369106739759445, w: 2.0051207542419434, b: 0.9535037875175476\n",
            "\n",
            "STEP 500 - loss: 0.0005660235183313489, w: 2.002768039703369, b: 0.9748650789260864\n",
            "\n",
            "STEP 600 - loss: 0.00016540249634999782, w: 2.0014963150024414, b: 0.9864127039909363\n",
            "\n",
            "STEP 700 - loss: 4.833878847421147e-05, w: 2.0008087158203125, b: 0.9926548004150391\n",
            "\n",
            "STEP 800 - loss: 1.4127646863926202e-05, w: 2.000437021255493, b: 0.9960291981697083\n",
            "\n",
            "STEP 900 - loss: 4.126977273699595e-06, w: 2.0002365112304688, b: 0.9978536367416382\n",
            "\n",
            "STEP 1000 - loss: 1.206297383760102e-06, w: 2.0001277923583984, b: 0.9988396763801575\n",
            "\n",
            "STEP 1100 - loss: 3.5225340866418264e-07, w: 2.0000691413879395, b: 0.9993728995323181\n",
            "\n",
            "STEP 1200 - loss: 1.0281972606662748e-07, w: 2.000037431716919, b: 0.9996611475944519\n",
            "\n"
          ]
        }
      ]
    },
    {
      "cell_type": "markdown",
      "source": [
        "##Model evaluations"
      ],
      "metadata": {
        "id": "yhoHzjnP_az-"
      }
    },
    {
      "cell_type": "code",
      "source": [
        "# Plotting the loss curve\n",
        "plt.plot(loss_history)\n",
        "plt.title('Loss Curve')\n",
        "plt.xlabel('Step')\n",
        "plt.ylabel('Loss')\n",
        "plt.show()"
      ],
      "metadata": {
        "colab": {
          "base_uri": "https://localhost:8080/",
          "height": 472
        },
        "id": "B9feFTYA_e-v",
        "outputId": "98306acc-d43f-4161-b2a9-50bf2c3aa289"
      },
      "execution_count": 13,
      "outputs": [
        {
          "output_type": "display_data",
          "data": {
            "text/plain": [
              "<Figure size 640x480 with 1 Axes>"
            ],
            "image/png": "[encoded data removed]"
          },
          "metadata": {}
        }
      ]
    }
  ]
}
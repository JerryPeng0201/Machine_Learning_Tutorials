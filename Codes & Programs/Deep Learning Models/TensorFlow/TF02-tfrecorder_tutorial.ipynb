{
  "nbformat": 4,
  "nbformat_minor": 0,
  "metadata": {
    "colab": {
      "provenance": []
    },
    "kernelspec": {
      "name": "python3",
      "display_name": "Python 3"
    },
    "language_info": {
      "name": "python"
    }
  },
  "cells": [
    {
      "cell_type": "markdown",
      "source": [
        "#TensorFlow Records\n",
        "\n",
        "TFRecord file format is a Tensorflow’s own binary storage format. Binary data takes up less space on disk, takes less time to copy and can be read much more efficiently from disk. This is especially true if your data is stored on spinning disks, due to the much lower read/write performance in comparison with SSDs.\n",
        "\n",
        "In this tutorial, we will use the movie recommendation application from the Tensorflow documentation as an example:"
      ],
      "metadata": {
        "id": "nuDPrc08-g6d"
      }
    },
    {
      "cell_type": "code",
      "source": [
        "import tensorflow as tf"
      ],
      "metadata": {
        "id": "dXymYgXdDqIo"
      },
      "execution_count": 1,
      "outputs": []
    },
    {
      "cell_type": "code",
      "source": [
        "# Create example data\n",
        "data = {\n",
        "    # Context\n",
        "    'Locale': 'pt_BR',\n",
        "    'Age': 19,\n",
        "    'Favorites': ['Majesty Rose', 'Savannah Outen', 'One Direction'],\n",
        "    # Data\n",
        "    'Data': [\n",
        "        {   # Movie 1\n",
        "            'Movie Name': 'The Shawshank Redemption',\n",
        "            'Movie Rating': 9.0,\n",
        "            'Actors': ['Tim Robbins', 'Morgan Freeman']\n",
        "        },\n",
        "        {   # Movie 2\n",
        "            'Movie Name': 'Fight Club',\n",
        "            'Movie Rating': 9.7,\n",
        "            'Actors': ['Brad Pitt', 'Edward Norton', 'Helena Bonham Carter']\n",
        "        }\n",
        "    ]\n",
        "}\n",
        "\n",
        "print(data)"
      ],
      "metadata": {
        "colab": {
          "base_uri": "https://localhost:8080/"
        },
        "id": "FuI8UOwjDvAl",
        "outputId": "0da83f74-b8f6-4058-da65-def59c9cfad3"
      },
      "execution_count": 2,
      "outputs": [
        {
          "output_type": "stream",
          "name": "stdout",
          "text": [
            "{'Locale': 'pt_BR', 'Age': 19, 'Favorites': ['Majesty Rose', 'Savannah Outen', 'One Direction'], 'Data': [{'Movie Name': 'The Shawshank Redemption', 'Movie Rating': 9.0, 'Actors': ['Tim Robbins', 'Morgan Freeman']}, {'Movie Name': 'Fight Club', 'Movie Rating': 9.7, 'Actors': ['Brad Pitt', 'Edward Norton', 'Helena Bonham Carter']}]}\n"
          ]
        }
      ]
    },
    {
      "cell_type": "markdown",
      "source": [
        "##Structuring TFRecords\n",
        "\n",
        "A TFRecord file stores your data as a sequence of binary strings. This means you need to specify the structure of your data before you write it to the file. Tensorflow provides two components for this purpose: `tf.train.Example` and `tf.train.SequenceExample`. You have to store each sample of your data in one of these structures, then serialize it and use a `tf.python_io.TFRecordWriter` to write it to disk."
      ],
      "metadata": {
        "id": "k610gty5_WdA"
      }
    },
    {
      "cell_type": "markdown",
      "source": [
        "`tf.train.BytesList`, `tf.train.FloatList`, and `tf.train.Int64List` are at the core of a tf.train.Feature. All three have a single attribute value, which expects a list of respective bytes, float, and int."
      ],
      "metadata": {
        "id": "Mhrq-gigFEBb"
      }
    },
    {
      "cell_type": "code",
      "execution_count": 3,
      "metadata": {
        "id": "gt5y0Coh8ZNH"
      },
      "outputs": [],
      "source": [
        "movie_name_list = tf.train.BytesList(value=[b'The Shawshank Redemption', b'Fight Club'])\n",
        "movie_rating_list = tf.train.FloatList(value=[9.0, 9.7])"
      ]
    },
    {
      "cell_type": "markdown",
      "source": [
        "`tf.train.Feature` wraps a list of data of a specific type so Tensorflow can understand it. It has a single attribute, which is a **union** of *bytes_list/float_list/int64_list*. Being a union, the stored list can be of type `tf.train.BytesList` (attribute name bytes_list), `tf.train.FloatList` (attribute name float_list), or `tf.train.Int64List` (attribute name int64_list)."
      ],
      "metadata": {
        "id": "6n1Nd71yFXtr"
      }
    },
    {
      "cell_type": "code",
      "source": [
        "movie_names = tf.train.Feature(bytes_list=movie_name_list)\n",
        "movie_ratings = tf.train.Feature(float_list=movie_rating_list)"
      ],
      "metadata": {
        "id": "2-NiZ7ndFoS0"
      },
      "execution_count": 4,
      "outputs": []
    },
    {
      "cell_type": "markdown",
      "source": [
        "`tf.train.Features` is a collection of named features. It has a single attribute feature that expects a dictionary where the key is the name of the features and the value a tf.train.Feature."
      ],
      "metadata": {
        "id": "9EyNSnQiFvDE"
      }
    },
    {
      "cell_type": "code",
      "source": [
        "movie_dict = {\n",
        "  'Movie Names': movie_names,\n",
        "  'Movie Ratings': movie_ratings\n",
        "}\n",
        "movies = tf.train.Features(feature=movie_dict)"
      ],
      "metadata": {
        "id": "KyTYokyOFx6G"
      },
      "execution_count": 5,
      "outputs": []
    },
    {
      "cell_type": "markdown",
      "source": [
        "`tf.train.Example` is one of the main components for structuring a TFRecord. An `tf.train.Example` stores features in a single attribute features of type `tf.train.Features`."
      ],
      "metadata": {
        "id": "tUyE_BnPF2ia"
      }
    },
    {
      "cell_type": "code",
      "source": [
        "example = tf.train.Example(features=movies)"
      ],
      "metadata": {
        "id": "qGkZz0B1F_Ik"
      },
      "execution_count": 6,
      "outputs": []
    },
    {
      "cell_type": "markdown",
      "source": [
        "`tf.io.TFRecordWriter` accepts a file path in its path attribute and creates a writer object that works just like any other file object. The TFRecordWriter class offers *write*, *flush* and *close* methods. The method write accepts a string as parameter and writes it to disk, meaning that structured data must be serialized first. To this end, tf.train.Example and `tf.train.SequenceExample` provide *SerializeToString* methods:"
      ],
      "metadata": {
        "id": "Sfhd8a9pGFY4"
      }
    },
    {
      "cell_type": "code",
      "source": [
        "with tf.io.TFRecordWriter('movie_ratings.tfrecord') as writer:\n",
        "    writer.write(example.SerializeToString())"
      ],
      "metadata": {
        "id": "W0bvLBNMGnD-"
      },
      "execution_count": 8,
      "outputs": []
    },
    {
      "cell_type": "code",
      "source": [
        "# Read and print TFRecord file\n",
        "filepaths = [\"/content/movie_ratings.tfrecord\"]\n",
        "dataset = tf.data.TFRecordDataset(filepaths)\n",
        "\n",
        "# Define features\n",
        "feature_description = {\n",
        "    'Movie Names': tf.io.VarLenFeature(dtype=tf.string),\n",
        "    'Movie Ratings': tf.io.VarLenFeature(dtype=tf.float32),\n",
        "}\n",
        "\n",
        "# Function to parse the examples\n",
        "def _parse_function(example_proto):\n",
        "    return tf.io.parse_single_example(example_proto, feature_description)\n",
        "\n",
        "# Use the parse function\n",
        "dataset = dataset.map(_parse_function)\n",
        "\n",
        "# Iterate and print features\n",
        "for data in dataset:\n",
        "    for name, tensor in data.items():\n",
        "        print('{}: {}'.format(name, tensor.values))"
      ],
      "metadata": {
        "colab": {
          "base_uri": "https://localhost:8080/"
        },
        "id": "bASnoPqaIwYR",
        "outputId": "a554ee05-1537-4376-8992-8b5b0fda3236"
      },
      "execution_count": 10,
      "outputs": [
        {
          "output_type": "stream",
          "name": "stdout",
          "text": [
            "Movie Names: [b'The Shawshank Redemption' b'Fight Club']\n",
            "Movie Ratings: [9.  9.7]\n"
          ]
        }
      ]
    },
    {
      "cell_type": "markdown",
      "source": [
        "##Reference:\n",
        "<li> https://medium.com/mostly-ai/tensorflow-records-what-they-are-and-how-to-use-them-c46bc4bbb564\n",
        "<li> https://github.com/tensorflow/tensorflow/blob/r1.5/tensorflow/core/example/example.proto"
      ],
      "metadata": {
        "id": "Sc6LzMgA_NWv"
      }
    }
  ]
}
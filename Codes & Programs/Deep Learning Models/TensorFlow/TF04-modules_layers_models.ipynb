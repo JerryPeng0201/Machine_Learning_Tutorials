{
  "nbformat": 4,
  "nbformat_minor": 0,
  "metadata": {
    "colab": {
      "provenance": [],
      "toc_visible": true
    },
    "kernelspec": {
      "name": "python3",
      "display_name": "Python 3"
    },
    "language_info": {
      "name": "python"
    }
  },
  "cells": [
    {
      "cell_type": "markdown",
      "source": [
        "#Tutorial for Modules, Layers, and Models\n",
        "In this guide, you will go below the surface of Keras to see how TensorFlow models are defined. This looks at how TensorFlow collects variables and models, as well as how they are saved and restored."
      ],
      "metadata": {
        "id": "fDn3schD2sZ3"
      }
    },
    {
      "cell_type": "code",
      "execution_count": 1,
      "metadata": {
        "id": "raj0NHrOU7o_"
      },
      "outputs": [],
      "source": [
        "import tensorflow as tf\n",
        "from datetime import datetime"
      ]
    },
    {
      "cell_type": "markdown",
      "source": [
        "##Building Module"
      ],
      "metadata": {
        "id": "fa_qzt_n3snw"
      }
    },
    {
      "cell_type": "markdown",
      "source": [
        "###Simple Module on a Scalar"
      ],
      "metadata": {
        "id": "xb8MQkk74g5Y"
      }
    },
    {
      "cell_type": "code",
      "source": [
        "class SimpleModule(tf.Module):\n",
        "    def __init__(self, name=None):\n",
        "        super().__init__(name=name)\n",
        "        self.a_variable = tf.Variable(5.0, name=\"train_me\")\n",
        "        self.non_trainable_variable = tf.Variable(5.0, trainable=False, name=\"do_not_train_me\")\n",
        "    def __call__(self, x):\n",
        "        return self.a_variable * x + self.non_trainable_variable\n",
        "\n",
        "simple_module = SimpleModule(name=\"simple\")\n",
        "\n",
        "simple_module(tf.constant(5.0))"
      ],
      "metadata": {
        "colab": {
          "base_uri": "https://localhost:8080/"
        },
        "id": "-Ad931sG3uQM",
        "outputId": "6ae13ed3-d0a9-4750-b133-ce935582aa92"
      },
      "execution_count": 2,
      "outputs": [
        {
          "output_type": "execute_result",
          "data": {
            "text/plain": [
              "<tf.Tensor: shape=(), dtype=float32, numpy=30.0>"
            ]
          },
          "metadata": {},
          "execution_count": 2
        }
      ]
    },
    {
      "cell_type": "code",
      "source": [
        "# All trainable variables\n",
        "print(\"trainable variables:\", simple_module.trainable_variables)\n",
        "# Every variable\n",
        "print(\"all variables:\", simple_module.variables)"
      ],
      "metadata": {
        "colab": {
          "base_uri": "https://localhost:8080/"
        },
        "id": "16urVs7v4CEl",
        "outputId": "00e33435-7b2a-43aa-acf0-dfe6b913170b"
      },
      "execution_count": 3,
      "outputs": [
        {
          "output_type": "stream",
          "name": "stdout",
          "text": [
            "trainable variables: (<tf.Variable 'train_me:0' shape=() dtype=float32, numpy=5.0>,)\n",
            "all variables: (<tf.Variable 'train_me:0' shape=() dtype=float32, numpy=5.0>, <tf.Variable 'do_not_train_me:0' shape=() dtype=float32, numpy=5.0>)\n"
          ]
        }
      ]
    },
    {
      "cell_type": "markdown",
      "source": [
        "###Two-layers Module"
      ],
      "metadata": {
        "id": "viU97b414S0c"
      }
    },
    {
      "cell_type": "code",
      "source": [
        "class Dense(tf.Module):\n",
        "    def __init__(self, in_features, out_features, name=None):\n",
        "        super().__init__(name=name)\n",
        "        self.w = tf.Variable(\n",
        "          tf.random.normal([in_features, out_features]), name='w')\n",
        "        self.b = tf.Variable(tf.zeros([out_features]), name='b')\n",
        "    def __call__(self, x):\n",
        "        y = tf.matmul(x, self.w) + self.b\n",
        "        return tf.nn.relu(y)"
      ],
      "metadata": {
        "id": "1i-FEKlM4O20"
      },
      "execution_count": 4,
      "outputs": []
    },
    {
      "cell_type": "code",
      "source": [
        "class SequentialModule(tf.Module):\n",
        "    def __init__(self, name=None):\n",
        "        super().__init__(name=name)\n",
        "\n",
        "        self.dense_1 = Dense(in_features=3, out_features=3)\n",
        "        self.dense_2 = Dense(in_features=3, out_features=2)\n",
        "\n",
        "    def __call__(self, x):\n",
        "        x = self.dense_1(x)\n",
        "        return self.dense_2(x)\n",
        "\n",
        "# You have made a model!\n",
        "my_model = SequentialModule(name=\"the_model\")\n",
        "\n",
        "# Call it, with random results\n",
        "print(\"Model results:\", my_model(tf.constant([[2.0, 2.0, 2.0]])))"
      ],
      "metadata": {
        "colab": {
          "base_uri": "https://localhost:8080/"
        },
        "id": "PqpyXv2z4aF_",
        "outputId": "0c144401-fbe4-40ad-e329-9d4decd7339c"
      },
      "execution_count": 5,
      "outputs": [
        {
          "output_type": "stream",
          "name": "stdout",
          "text": [
            "Model results: tf.Tensor([[2.002608 0.      ]], shape=(1, 2), dtype=float32)\n"
          ]
        }
      ]
    },
    {
      "cell_type": "code",
      "source": [
        "print(\"Submodules:\", my_model.submodules)"
      ],
      "metadata": {
        "colab": {
          "base_uri": "https://localhost:8080/"
        },
        "id": "8fZ_dhGB452p",
        "outputId": "db61256f-6f63-4f88-8d78-6274902d24ca"
      },
      "execution_count": 6,
      "outputs": [
        {
          "output_type": "stream",
          "name": "stdout",
          "text": [
            "Submodules: (<__main__.Dense object at 0x7a534cd27d90>, <__main__.Dense object at 0x7a534cd515a0>)\n"
          ]
        }
      ]
    },
    {
      "cell_type": "code",
      "source": [
        "for var in my_model.variables:\n",
        "  print(var, \"\\n\")"
      ],
      "metadata": {
        "colab": {
          "base_uri": "https://localhost:8080/"
        },
        "id": "_4aSLU5L48mF",
        "outputId": "51982a53-a65f-492f-cf4f-294685d350bd"
      },
      "execution_count": 7,
      "outputs": [
        {
          "output_type": "stream",
          "name": "stdout",
          "text": [
            "<tf.Variable 'b:0' shape=(3,) dtype=float32, numpy=array([0., 0., 0.], dtype=float32)> \n",
            "\n",
            "<tf.Variable 'w:0' shape=(3, 3) dtype=float32, numpy=\n",
            "array([[ 0.701005  , -0.65238184,  0.954651  ],\n",
            "       [ 0.42004874,  0.258714  , -0.091586  ],\n",
            "       [-0.1762472 ,  0.49150285, -0.29449317]], dtype=float32)> \n",
            "\n",
            "<tf.Variable 'b:0' shape=(2,) dtype=float32, numpy=array([0., 0.], dtype=float32)> \n",
            "\n",
            "<tf.Variable 'w:0' shape=(3, 2) dtype=float32, numpy=\n",
            "array([[ 0.32057202,  0.17294899],\n",
            "       [-2.1537101 ,  0.24526326],\n",
            "       [ 1.5989779 , -1.5655091 ]], dtype=float32)> \n",
            "\n"
          ]
        }
      ]
    },
    {
      "cell_type": "markdown",
      "source": [
        "###Waiting to create variables\n",
        "You may have noticed here that you have to define both input and output sizes to the layer. This is so the w variable has a known shape and can be allocated.\n",
        "\n",
        "By deferring variable creation to the first time the module is called with a specific input shape, you do not need specify the input size up front."
      ],
      "metadata": {
        "id": "ULYeFbhvvP0A"
      }
    },
    {
      "cell_type": "code",
      "source": [
        "class FlexibleDenseModule(tf.Module):\n",
        "    # Note: No need for `in_features`\n",
        "    def __init__(self, out_features, name=None):\n",
        "        super().__init__(name=name)\n",
        "        self.is_built = False\n",
        "        self.out_features = out_features\n",
        "\n",
        "    def __call__(self, x):\n",
        "        # Create variables on first call.\n",
        "        if not self.is_built:\n",
        "            self.w = tf.Variable(\n",
        "                tf.random.normal([x.shape[-1], self.out_features]), name='w')\n",
        "            self.b = tf.Variable(tf.zeros([self.out_features]), name='b')\n",
        "            self.is_built = True\n",
        "\n",
        "        y = tf.matmul(x, self.w) + self.b\n",
        "        return tf.nn.relu(y)"
      ],
      "metadata": {
        "id": "8BPl_uBGvQud"
      },
      "execution_count": 12,
      "outputs": []
    },
    {
      "cell_type": "code",
      "source": [
        "# Used in a module\n",
        "class MySequentialModule(tf.Module):\n",
        "    def __init__(self, name=None):\n",
        "        super().__init__(name=name)\n",
        "\n",
        "        self.dense_1 = FlexibleDenseModule(out_features=3)\n",
        "        self.dense_2 = FlexibleDenseModule(out_features=2)\n",
        "\n",
        "    def __call__(self, x):\n",
        "        x = self.dense_1(x)\n",
        "        return self.dense_2(x)\n",
        "\n",
        "my_model = MySequentialModule(name=\"the_model\")\n",
        "print(\"Model results:\", my_model(tf.constant([[2.0, 2.0, 2.0]])))"
      ],
      "metadata": {
        "colab": {
          "base_uri": "https://localhost:8080/"
        },
        "id": "9I6Ai5ZLvXuy",
        "outputId": "70f3e154-7696-42c0-b320-fd33540b1bc4"
      },
      "execution_count": 13,
      "outputs": [
        {
          "output_type": "stream",
          "name": "stdout",
          "text": [
            "Model results: tf.Tensor([[0.9829333 0.       ]], shape=(1, 2), dtype=float32)\n"
          ]
        }
      ]
    },
    {
      "cell_type": "markdown",
      "source": [
        "###Saving Weights"
      ],
      "metadata": {
        "id": "oomUA5vmu47h"
      }
    },
    {
      "cell_type": "code",
      "source": [
        "chkp_path = \"my_checkpoint\"\n",
        "checkpoint = tf.train.Checkpoint(model=my_model)\n",
        "checkpoint.write(chkp_path)"
      ],
      "metadata": {
        "colab": {
          "base_uri": "https://localhost:8080/",
          "height": 35
        },
        "id": "VHeco1VKu4er",
        "outputId": "eb9782ab-58f2-41e4-f367-169b3cb7fde0"
      },
      "execution_count": 14,
      "outputs": [
        {
          "output_type": "execute_result",
          "data": {
            "text/plain": [
              "'my_checkpoint'"
            ],
            "application/vnd.google.colaboratory.intrinsic+json": {
              "type": "string"
            }
          },
          "metadata": {},
          "execution_count": 14
        }
      ]
    },
    {
      "cell_type": "code",
      "source": [
        "%ls my_checkpoint*"
      ],
      "metadata": {
        "colab": {
          "base_uri": "https://localhost:8080/"
        },
        "id": "BpdWcEz7vBdx",
        "outputId": "9fa63a8b-7455-48b1-c878-35d042b2d5e2"
      },
      "execution_count": 15,
      "outputs": [
        {
          "output_type": "stream",
          "name": "stdout",
          "text": [
            "my_checkpoint.data-00000-of-00001  my_checkpoint.index\n"
          ]
        }
      ]
    },
    {
      "cell_type": "code",
      "source": [
        "tf.train.list_variables(chkp_path)"
      ],
      "metadata": {
        "colab": {
          "base_uri": "https://localhost:8080/"
        },
        "id": "pnGtlptRvE2x",
        "outputId": "d3a40b37-162d-4e22-ceed-82b5765e4c82"
      },
      "execution_count": 16,
      "outputs": [
        {
          "output_type": "execute_result",
          "data": {
            "text/plain": [
              "[('_CHECKPOINTABLE_OBJECT_GRAPH', []),\n",
              " ('model/dense_1/b/.ATTRIBUTES/VARIABLE_VALUE', [3]),\n",
              " ('model/dense_1/w/.ATTRIBUTES/VARIABLE_VALUE', [3, 3]),\n",
              " ('model/dense_2/b/.ATTRIBUTES/VARIABLE_VALUE', [2]),\n",
              " ('model/dense_2/w/.ATTRIBUTES/VARIABLE_VALUE', [3, 2])]"
            ]
          },
          "metadata": {},
          "execution_count": 16
        }
      ]
    },
    {
      "cell_type": "markdown",
      "source": [
        "###Load the Saved Weights"
      ],
      "metadata": {
        "id": "y7A5rUCUvHnw"
      }
    },
    {
      "cell_type": "code",
      "source": [
        "new_model = MySequentialModule()\n",
        "new_checkpoint = tf.train.Checkpoint(model=new_model)\n",
        "new_checkpoint.restore(\"my_checkpoint\")\n",
        "\n",
        "# Should be the same result as above\n",
        "new_model(tf.constant([[2.0, 2.0, 2.0]]))"
      ],
      "metadata": {
        "colab": {
          "base_uri": "https://localhost:8080/"
        },
        "id": "KoPBb0r8vJpC",
        "outputId": "bec3885e-87f0-4e41-b503-5c88cc17f210"
      },
      "execution_count": 17,
      "outputs": [
        {
          "output_type": "execute_result",
          "data": {
            "text/plain": [
              "<tf.Tensor: shape=(1, 2), dtype=float32, numpy=array([[0.9829333, 0.       ]], dtype=float32)>"
            ]
          },
          "metadata": {},
          "execution_count": 17
        }
      ]
    },
    {
      "cell_type": "markdown",
      "source": [
        "###Saving Functions"
      ],
      "metadata": {
        "id": "qk9FYqk2vkJR"
      }
    },
    {
      "cell_type": "code",
      "source": [
        "class MySequentialModule(tf.Module):\n",
        "    def __init__(self, name=None):\n",
        "        super().__init__(name=name)\n",
        "\n",
        "        self.dense_1 = Dense(in_features=3, out_features=3)\n",
        "        self.dense_2 = Dense(in_features=3, out_features=2)\n",
        "\n",
        "    @tf.function\n",
        "    def __call__(self, x):\n",
        "        x = self.dense_1(x)\n",
        "        return self.dense_2(x)\n",
        "\n",
        "# You have made a model with a graph!\n",
        "my_model = MySequentialModule(name=\"the_model\")"
      ],
      "metadata": {
        "id": "FH4AId_tvjlo"
      },
      "execution_count": 18,
      "outputs": []
    },
    {
      "cell_type": "code",
      "source": [
        "print(my_model([[2.0, 2.0, 2.0]]))\n",
        "print(my_model([[[2.0, 2.0, 2.0], [2.0, 2.0, 2.0]]]))"
      ],
      "metadata": {
        "colab": {
          "base_uri": "https://localhost:8080/"
        },
        "id": "uUwMekTjvwFy",
        "outputId": "936f6d68-2861-4276-b09d-0ecee274b377"
      },
      "execution_count": 22,
      "outputs": [
        {
          "output_type": "stream",
          "name": "stdout",
          "text": [
            "tf.Tensor([[4.1770425 2.0441113]], shape=(1, 2), dtype=float32)\n",
            "tf.Tensor(\n",
            "[[[4.1770425 2.0441113]\n",
            "  [4.1770425 2.0441113]]], shape=(1, 2, 2), dtype=float32)\n"
          ]
        }
      ]
    },
    {
      "cell_type": "markdown",
      "source": [
        "#Reference:\n",
        "[Introduction to modules, layers, and models](https://www.tensorflow.org/guide/intro_to_modules)"
      ],
      "metadata": {
        "id": "Q4fgvcLl31xz"
      }
    }
  ]
}
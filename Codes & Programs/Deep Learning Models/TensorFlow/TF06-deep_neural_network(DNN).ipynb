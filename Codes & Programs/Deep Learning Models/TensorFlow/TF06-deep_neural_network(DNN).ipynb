{
  "nbformat": 4,
  "nbformat_minor": 0,
  "metadata": {
    "colab": {
      "provenance": []
    },
    "kernelspec": {
      "name": "python3",
      "display_name": "Python 3"
    },
    "language_info": {
      "name": "python"
    }
  },
  "cells": [
    {
      "cell_type": "markdown",
      "source": [
        "#Implement Deep Neural Network (DNN) with TensorFlow\n",
        "In this lab, we'll see how to build a simple deep neural network model using the Keras sequential api and feature columns."
      ],
      "metadata": {
        "id": "DM81pNB5FyCs"
      }
    },
    {
      "cell_type": "code",
      "source": [
        "import datetime\n",
        "import os\n",
        "import shutil\n",
        "\n",
        "import numpy as np\n",
        "import pandas as pd\n",
        "import tensorflow as tf\n",
        "from matplotlib import pyplot as plt\n",
        "from tensorflow import keras\n",
        "from tensorflow.keras.callbacks import TensorBoard\n",
        "from tensorflow.keras.layers import Dense, DenseFeatures\n",
        "from tensorflow.keras.models import Sequential\n",
        "\n",
        "print(tf.__version__)"
      ],
      "metadata": {
        "colab": {
          "base_uri": "https://localhost:8080/"
        },
        "id": "_z4RGnXsFxt_",
        "outputId": "80d9755f-6952-42d8-fb76-263d4726c6b8"
      },
      "execution_count": 38,
      "outputs": [
        {
          "output_type": "stream",
          "name": "stdout",
          "text": [
            "2.12.0\n"
          ]
        }
      ]
    },
    {
      "cell_type": "markdown",
      "source": [
        "##Load the raw data\n",
        "**Note** Please change the path to your dataset's path.\n",
        "\n",
        "We will use the taxifare dataset, using the CSV files that we created in the first notebook of this sequence."
      ],
      "metadata": {
        "id": "BwS2h7fCLaP_"
      }
    },
    {
      "cell_type": "code",
      "source": [
        "CSV_COLUMNS = [\n",
        "    \"fare_amount\",\n",
        "    \"pickup_datetime\",\n",
        "    \"pickup_longitude\",\n",
        "    \"pickup_latitude\",\n",
        "    \"dropoff_longitude\",\n",
        "    \"dropoff_latitude\",\n",
        "    \"passenger_count\",\n",
        "    \"key\",\n",
        "]\n",
        "LABEL_COLUMN = \"fare_amount\"\n",
        "DEFAULTS = [[0.0], [\"na\"], [0.0], [0.0], [0.0], [0.0], [0.0], [\"na\"]]\n",
        "UNWANTED_COLS = [\"pickup_datetime\", \"key\"]\n",
        "\n",
        "def features_and_labels(df):\n",
        "    label = df[LABEL_COLUMN]\n",
        "    features = df.drop(columns=[LABEL_COLUMN] + UNWANTED_COLS)\n",
        "    return features, label\n",
        "\n",
        "def create_dataset(path, batch_size=1, mode=\"eval\"):\n",
        "    # Read CSV file and create dataframe\n",
        "    df = pd.read_csv(path, header=None, names=CSV_COLUMNS)\n",
        "\n",
        "    # Seperate the labels and the features\n",
        "    features, labels = features_and_labels(df)\n",
        "\n",
        "    # Convert to TensorFlow Dataset\n",
        "    dataset = tf.data.Dataset.from_tensor_slices((features.to_dict('list'), labels.values))\n",
        "\n",
        "    if mode == \"train\":\n",
        "        dataset = dataset.shuffle(buffer_size=1000).repeat()\n",
        "\n",
        "    dataset = dataset.batch(batch_size)\n",
        "\n",
        "    # take advantage of multi-threading; 1=AUTOTUNE\n",
        "    dataset = dataset.prefetch(1)\n",
        "\n",
        "    return dataset\n"
      ],
      "metadata": {
        "id": "zs-ly48vNy5N"
      },
      "execution_count": 39,
      "outputs": []
    },
    {
      "cell_type": "markdown",
      "source": [
        "##Building Keras DNN model"
      ],
      "metadata": {
        "id": "cfzy1_tAeLAi"
      }
    },
    {
      "cell_type": "code",
      "source": [
        "INPUT_COLS = [\n",
        "    \"pickup_longitude\",\n",
        "    \"pickup_latitude\",\n",
        "    \"dropoff_longitude\",\n",
        "    \"dropoff_latitude\",\n",
        "    \"passenger_count\",\n",
        "]\n",
        "\n",
        "# Create input layer of feature columns\n",
        "feature_columns = {\n",
        "    colname: tf.feature_column.numeric_column(colname) for colname in INPUT_COLS\n",
        "}"
      ],
      "metadata": {
        "id": "8wHQ1YEzeOuo"
      },
      "execution_count": 40,
      "outputs": []
    },
    {
      "cell_type": "code",
      "source": [
        "# Define the model\n",
        "model = Sequential([\n",
        "        DenseFeatures(feature_columns=feature_columns.values()),\n",
        "        Dense(units=32, activation=\"relu\", name=\"h1\"),\n",
        "        Dense(units=8, activation=\"relu\", name=\"h2\"),\n",
        "        Dense(units=1, activation=\"linear\", name=\"output\"),\n",
        "    ])"
      ],
      "metadata": {
        "id": "DoS6CZ2reeSX"
      },
      "execution_count": 41,
      "outputs": []
    },
    {
      "cell_type": "code",
      "source": [
        "def rmse(y_true, y_pred):\n",
        "    return tf.sqrt(tf.reduce_mean(tf.square(y_pred - y_true)))\n",
        "\n",
        "\n",
        "# Compile the keras model\n",
        "model.compile(optimizer=\"adam\", loss=\"mse\", metrics=[rmse, \"mse\"])"
      ],
      "metadata": {
        "id": "qNKsz_Fdelml"
      },
      "execution_count": 42,
      "outputs": []
    },
    {
      "cell_type": "markdown",
      "source": [
        "##Train the model"
      ],
      "metadata": {
        "id": "xgbDKFWUesX7"
      }
    },
    {
      "cell_type": "code",
      "source": [
        "TRAIN_BATCH_SIZE = 1000\n",
        "NUM_TRAIN_EXAMPLES = 10000 * 5  # training dataset will repeat, wrap around\n",
        "NUM_EVALS = 50  # how many times to evaluate\n",
        "NUM_EVAL_EXAMPLES = 10000  # enough to get a reasonable sample\n",
        "\n",
        "trainds = create_dataset(\n",
        "    path=\"/content/taxi-train.csv\", batch_size=TRAIN_BATCH_SIZE, mode=\"train\"\n",
        ")\n",
        "\n",
        "evalds = create_dataset(\n",
        "    path=\"/content/taxi-valid.csv\", batch_size=1000, mode=\"eval\"\n",
        ").take(NUM_EVAL_EXAMPLES // 1000)"
      ],
      "metadata": {
        "id": "fzILBLI6euC5"
      },
      "execution_count": 43,
      "outputs": []
    },
    {
      "cell_type": "code",
      "source": [
        "steps_per_epoch = NUM_TRAIN_EXAMPLES // (TRAIN_BATCH_SIZE * NUM_EVALS)\n",
        "\n",
        "LOGDIR = \"./taxi_trained\"\n",
        "history = model.fit(\n",
        "    x=trainds,\n",
        "    steps_per_epoch=steps_per_epoch,\n",
        "    epochs=NUM_EVALS,\n",
        "    validation_data=evalds,\n",
        "    callbacks=[TensorBoard(LOGDIR)],\n",
        ")"
      ],
      "metadata": {
        "colab": {
          "base_uri": "https://localhost:8080/"
        },
        "id": "W7lILsFznnWF",
        "outputId": "c5e223bb-d307-4441-c960-0f935e1375f6"
      },
      "execution_count": 44,
      "outputs": [
        {
          "output_type": "stream",
          "name": "stdout",
          "text": [
            "Epoch 1/50\n"
          ]
        },
        {
          "output_type": "stream",
          "name": "stderr",
          "text": [
            "WARNING:tensorflow:Layers in a Sequential model should only have a single input tensor. Received: inputs={'pickup_longitude': <tf.Tensor 'IteratorGetNext:4' shape=(None,) dtype=float32>, 'pickup_latitude': <tf.Tensor 'IteratorGetNext:3' shape=(None,) dtype=float32>, 'dropoff_longitude': <tf.Tensor 'IteratorGetNext:1' shape=(None,) dtype=float32>, 'dropoff_latitude': <tf.Tensor 'IteratorGetNext:0' shape=(None,) dtype=float32>, 'passenger_count': <tf.Tensor 'IteratorGetNext:2' shape=(None,) dtype=int32>}. Consider rewriting this model with the Functional API.\n",
            "WARNING:tensorflow:Layers in a Sequential model should only have a single input tensor. Received: inputs={'pickup_longitude': <tf.Tensor 'IteratorGetNext:4' shape=(None,) dtype=float32>, 'pickup_latitude': <tf.Tensor 'IteratorGetNext:3' shape=(None,) dtype=float32>, 'dropoff_longitude': <tf.Tensor 'IteratorGetNext:1' shape=(None,) dtype=float32>, 'dropoff_latitude': <tf.Tensor 'IteratorGetNext:0' shape=(None,) dtype=float32>, 'passenger_count': <tf.Tensor 'IteratorGetNext:2' shape=(None,) dtype=int32>}. Consider rewriting this model with the Functional API.\n"
          ]
        },
        {
          "output_type": "stream",
          "name": "stdout",
          "text": [
            "\r1/1 [==============================] - ETA: 0s - loss: 2029.2469 - rmse: 45.0472 - mse: 2029.2469"
          ]
        },
        {
          "output_type": "stream",
          "name": "stderr",
          "text": [
            "WARNING:tensorflow:Layers in a Sequential model should only have a single input tensor. Received: inputs={'pickup_longitude': <tf.Tensor 'IteratorGetNext:4' shape=(None,) dtype=float32>, 'pickup_latitude': <tf.Tensor 'IteratorGetNext:3' shape=(None,) dtype=float32>, 'dropoff_longitude': <tf.Tensor 'IteratorGetNext:1' shape=(None,) dtype=float32>, 'dropoff_latitude': <tf.Tensor 'IteratorGetNext:0' shape=(None,) dtype=float32>, 'passenger_count': <tf.Tensor 'IteratorGetNext:2' shape=(None,) dtype=int32>}. Consider rewriting this model with the Functional API.\n"
          ]
        },
        {
          "output_type": "stream",
          "name": "stdout",
          "text": [
            "\b\b\b\b\b\b\b\b\b\b\b\b\b\b\b\b\b\b\b\b\b\b\b\b\b\b\b\b\b\b\b\b\b\b\b\b\b\b\b\b\b\b\b\b\b\b\b\b\b\b\b\b\b\b\b\b\b\b\b\b\b\b\b\b\b\b\b\b\b\b\b\b\b\b\b\b\b\b\b\b\b\b\b\b\b\b\b\b\b\b\b\b\b\b\b\b\b\r1/1 [==============================] - 1s 1s/step - loss: 2029.2469 - rmse: 45.0472 - mse: 2029.2469 - val_loss: 1904.9513 - val_rmse: 43.6450 - val_mse: 1904.9513\n",
            "Epoch 2/50\n",
            "1/1 [==============================] - 0s 36ms/step - loss: 1937.8363 - rmse: 44.0209 - mse: 1937.8363 - val_loss: 1796.6268 - val_rmse: 42.3858 - val_mse: 1796.6268\n",
            "Epoch 3/50\n",
            "1/1 [==============================] - 0s 54ms/step - loss: 1829.8650 - rmse: 42.7769 - mse: 1829.8650 - val_loss: 1692.7306 - val_rmse: 41.1419 - val_mse: 1692.7306\n",
            "Epoch 4/50\n",
            "1/1 [==============================] - 0s 47ms/step - loss: 1717.5920 - rmse: 41.4438 - mse: 1717.5920 - val_loss: 1593.2432 - val_rmse: 39.9144 - val_mse: 1593.2432\n",
            "Epoch 5/50\n",
            "1/1 [==============================] - 0s 43ms/step - loss: 1623.8597 - rmse: 40.2971 - mse: 1623.8597 - val_loss: 1498.1478 - val_rmse: 38.7048 - val_mse: 1498.1478\n",
            "Epoch 6/50\n",
            "1/1 [==============================] - 0s 50ms/step - loss: 1486.4456 - rmse: 38.5545 - mse: 1486.4456 - val_loss: 1407.4847 - val_rmse: 37.5152 - val_mse: 1407.4847\n",
            "Epoch 7/50\n",
            "1/1 [==============================] - 0s 46ms/step - loss: 1434.1104 - rmse: 37.8696 - mse: 1434.1104 - val_loss: 1321.1368 - val_rmse: 36.3460 - val_mse: 1321.1368\n",
            "Epoch 8/50\n",
            "1/1 [==============================] - 0s 44ms/step - loss: 1338.7548 - rmse: 36.5890 - mse: 1338.7548 - val_loss: 1238.9526 - val_rmse: 35.1972 - val_mse: 1238.9526\n",
            "Epoch 9/50\n",
            "1/1 [==============================] - 0s 64ms/step - loss: 1263.1522 - rmse: 35.5409 - mse: 1263.1522 - val_loss: 1160.8365 - val_rmse: 34.0694 - val_mse: 1160.8365\n",
            "Epoch 10/50\n",
            "1/1 [==============================] - 0s 44ms/step - loss: 1168.9650 - rmse: 34.1901 - mse: 1168.9650 - val_loss: 1086.9009 - val_rmse: 32.9663 - val_mse: 1086.9009\n",
            "Epoch 11/50\n",
            "1/1 [==============================] - 0s 47ms/step - loss: 1101.7887 - rmse: 33.1932 - mse: 1101.7887 - val_loss: 1016.9243 - val_rmse: 31.8872 - val_mse: 1016.9243\n",
            "Epoch 12/50\n",
            "1/1 [==============================] - 0s 49ms/step - loss: 1030.2155 - rmse: 32.0970 - mse: 1030.2155 - val_loss: 950.9510 - val_rmse: 30.8352 - val_mse: 950.9510\n",
            "Epoch 13/50\n",
            "1/1 [==============================] - 0s 45ms/step - loss: 954.2012 - rmse: 30.8901 - mse: 954.2012 - val_loss: 889.6866 - val_rmse: 29.8252 - val_mse: 889.6866\n",
            "Epoch 14/50\n",
            "1/1 [==============================] - 0s 38ms/step - loss: 893.1697 - rmse: 29.8859 - mse: 893.1697 - val_loss: 832.1588 - val_rmse: 28.8445 - val_mse: 832.1588\n",
            "Epoch 15/50\n",
            "1/1 [==============================] - 0s 47ms/step - loss: 860.0102 - rmse: 29.3259 - mse: 860.0102 - val_loss: 777.9843 - val_rmse: 27.8895 - val_mse: 777.9843\n",
            "Epoch 16/50\n",
            "1/1 [==============================] - 0s 40ms/step - loss: 775.3464 - rmse: 27.8450 - mse: 775.3464 - val_loss: 727.0005 - val_rmse: 26.9599 - val_mse: 727.0005\n",
            "Epoch 17/50\n",
            "1/1 [==============================] - 0s 49ms/step - loss: 751.5856 - rmse: 27.4151 - mse: 751.5856 - val_loss: 678.9695 - val_rmse: 26.0538 - val_mse: 678.9695\n",
            "Epoch 18/50\n",
            "1/1 [==============================] - 0s 54ms/step - loss: 675.7844 - rmse: 25.9959 - mse: 675.7844 - val_loss: 633.9157 - val_rmse: 25.1742 - val_mse: 633.9156\n",
            "Epoch 19/50\n",
            "1/1 [==============================] - 0s 41ms/step - loss: 640.2323 - rmse: 25.3028 - mse: 640.2323 - val_loss: 591.6752 - val_rmse: 24.3207 - val_mse: 591.6752\n",
            "Epoch 20/50\n",
            "1/1 [==============================] - 0s 39ms/step - loss: 604.3861 - rmse: 24.5843 - mse: 604.3861 - val_loss: 552.1485 - val_rmse: 23.4939 - val_mse: 552.1485\n",
            "Epoch 21/50\n",
            "1/1 [==============================] - 0s 49ms/step - loss: 573.0230 - rmse: 23.9379 - mse: 573.0230 - val_loss: 515.2740 - val_rmse: 22.6955 - val_mse: 515.2739\n",
            "Epoch 22/50\n",
            "1/1 [==============================] - 0s 44ms/step - loss: 505.8824 - rmse: 22.4918 - mse: 505.8824 - val_loss: 480.9409 - val_rmse: 21.9259 - val_mse: 480.9409\n",
            "Epoch 23/50\n",
            "1/1 [==============================] - 0s 38ms/step - loss: 490.4105 - rmse: 22.1452 - mse: 490.4105 - val_loss: 448.9767 - val_rmse: 21.1844 - val_mse: 448.9767\n",
            "Epoch 24/50\n",
            "1/1 [==============================] - 0s 42ms/step - loss: 446.8483 - rmse: 21.1388 - mse: 446.8483 - val_loss: 419.2334 - val_rmse: 20.4702 - val_mse: 419.2334\n",
            "Epoch 25/50\n",
            "1/1 [==============================] - 0s 48ms/step - loss: 412.0126 - rmse: 20.2981 - mse: 412.0126 - val_loss: 391.6235 - val_rmse: 19.7842 - val_mse: 391.6235\n",
            "Epoch 26/50\n",
            "1/1 [==============================] - 0s 39ms/step - loss: 382.4723 - rmse: 19.5569 - mse: 382.4723 - val_loss: 366.0208 - val_rmse: 19.1261 - val_mse: 366.0208\n",
            "Epoch 27/50\n",
            "1/1 [==============================] - 0s 46ms/step - loss: 359.9111 - rmse: 18.9713 - mse: 359.9111 - val_loss: 342.3100 - val_rmse: 18.4957 - val_mse: 342.3100\n",
            "Epoch 28/50\n",
            "1/1 [==============================] - 0s 39ms/step - loss: 365.1007 - rmse: 19.1076 - mse: 365.1007 - val_loss: 320.4390 - val_rmse: 17.8946 - val_mse: 320.4390\n",
            "Epoch 29/50\n",
            "1/1 [==============================] - 0s 50ms/step - loss: 320.7707 - rmse: 17.9101 - mse: 320.7707 - val_loss: 300.2636 - val_rmse: 17.3216 - val_mse: 300.2636\n",
            "Epoch 30/50\n",
            "1/1 [==============================] - 0s 44ms/step - loss: 293.4924 - rmse: 17.1316 - mse: 293.4924 - val_loss: 281.6849 - val_rmse: 16.7766 - val_mse: 281.6849\n",
            "Epoch 31/50\n",
            "1/1 [==============================] - 0s 48ms/step - loss: 280.0770 - rmse: 16.7355 - mse: 280.0770 - val_loss: 264.6115 - val_rmse: 16.2597 - val_mse: 264.6115\n",
            "Epoch 32/50\n",
            "1/1 [==============================] - 0s 47ms/step - loss: 250.3153 - rmse: 15.8214 - mse: 250.3153 - val_loss: 248.9135 - val_rmse: 15.7694 - val_mse: 248.9135\n",
            "Epoch 33/50\n",
            "1/1 [==============================] - 0s 50ms/step - loss: 248.8319 - rmse: 15.7744 - mse: 248.8319 - val_loss: 234.5504 - val_rmse: 15.3071 - val_mse: 234.5504\n",
            "Epoch 34/50\n",
            "1/1 [==============================] - 0s 43ms/step - loss: 217.3393 - rmse: 14.7424 - mse: 217.3393 - val_loss: 221.4023 - val_rmse: 14.8713 - val_mse: 221.4023\n",
            "Epoch 35/50\n",
            "1/1 [==============================] - 0s 44ms/step - loss: 241.4711 - rmse: 15.5393 - mse: 241.4711 - val_loss: 209.4212 - val_rmse: 14.4628 - val_mse: 209.4212\n",
            "Epoch 36/50\n",
            "1/1 [==============================] - 0s 47ms/step - loss: 204.1415 - rmse: 14.2878 - mse: 204.1415 - val_loss: 198.5440 - val_rmse: 14.0816 - val_mse: 198.5440\n",
            "Epoch 37/50\n",
            "1/1 [==============================] - 0s 103ms/step - loss: 193.8774 - rmse: 13.9240 - mse: 193.8774 - val_loss: 188.6815 - val_rmse: 13.7268 - val_mse: 188.6815\n",
            "Epoch 38/50\n",
            "1/1 [==============================] - 0s 71ms/step - loss: 170.5632 - rmse: 13.0600 - mse: 170.5632 - val_loss: 179.7032 - val_rmse: 13.3957 - val_mse: 179.7032\n",
            "Epoch 39/50\n",
            "1/1 [==============================] - 0s 100ms/step - loss: 171.4022 - rmse: 13.0921 - mse: 171.4022 - val_loss: 171.5925 - val_rmse: 13.0893 - val_mse: 171.5925\n",
            "Epoch 40/50\n",
            "1/1 [==============================] - 0s 57ms/step - loss: 159.4083 - rmse: 12.6257 - mse: 159.4083 - val_loss: 164.2634 - val_rmse: 12.8062 - val_mse: 164.2634\n",
            "Epoch 41/50\n",
            "1/1 [==============================] - 0s 103ms/step - loss: 148.9107 - rmse: 12.2029 - mse: 148.9107 - val_loss: 157.6467 - val_rmse: 12.5451 - val_mse: 157.6467\n",
            "Epoch 42/50\n",
            "1/1 [==============================] - 0s 61ms/step - loss: 136.6591 - rmse: 11.6901 - mse: 136.6591 - val_loss: 151.6962 - val_rmse: 12.3055 - val_mse: 151.6962\n",
            "Epoch 43/50\n",
            "1/1 [==============================] - 0s 104ms/step - loss: 140.8856 - rmse: 11.8695 - mse: 140.8856 - val_loss: 146.3650 - val_rmse: 12.0868 - val_mse: 146.3650\n",
            "Epoch 44/50\n",
            "1/1 [==============================] - 0s 66ms/step - loss: 171.7524 - rmse: 13.1054 - mse: 171.7524 - val_loss: 141.6243 - val_rmse: 11.8890 - val_mse: 141.6243\n",
            "Epoch 45/50\n",
            "1/1 [==============================] - 0s 103ms/step - loss: 133.3152 - rmse: 11.5462 - mse: 133.3152 - val_loss: 137.4003 - val_rmse: 11.7099 - val_mse: 137.4003\n",
            "Epoch 46/50\n",
            "1/1 [==============================] - 0s 58ms/step - loss: 118.5329 - rmse: 10.8873 - mse: 118.5329 - val_loss: 133.6523 - val_rmse: 11.5486 - val_mse: 133.6523\n",
            "Epoch 47/50\n",
            "1/1 [==============================] - 0s 97ms/step - loss: 112.1634 - rmse: 10.5907 - mse: 112.1634 - val_loss: 130.4026 - val_rmse: 11.4069 - val_mse: 130.4026\n",
            "Epoch 48/50\n",
            "1/1 [==============================] - 0s 107ms/step - loss: 122.3650 - rmse: 11.0619 - mse: 122.3650 - val_loss: 127.5408 - val_rmse: 11.2807 - val_mse: 127.5408\n",
            "Epoch 49/50\n",
            "1/1 [==============================] - 0s 63ms/step - loss: 117.2020 - rmse: 10.8260 - mse: 117.2020 - val_loss: 125.0131 - val_rmse: 11.1680 - val_mse: 125.0131\n",
            "Epoch 50/50\n",
            "1/1 [==============================] - 0s 103ms/step - loss: 127.8239 - rmse: 11.3059 - mse: 127.8239 - val_loss: 122.7930 - val_rmse: 11.0681 - val_mse: 122.7930\n"
          ]
        }
      ]
    },
    {
      "cell_type": "markdown",
      "source": [
        "##Model evaluation"
      ],
      "metadata": {
        "id": "MK2jvR7pns6-"
      }
    },
    {
      "cell_type": "code",
      "source": [
        "model.summary()"
      ],
      "metadata": {
        "colab": {
          "base_uri": "https://localhost:8080/"
        },
        "id": "ktvqn8MtnuiF",
        "outputId": "fdd06870-666b-4c87-f2a2-a73a63169624"
      },
      "execution_count": 45,
      "outputs": [
        {
          "output_type": "stream",
          "name": "stdout",
          "text": [
            "Model: \"sequential_5\"\n",
            "_________________________________________________________________\n",
            " Layer (type)                Output Shape              Param #   \n",
            "=================================================================\n",
            " dense_features_5 (DenseFeat  multiple                 0         \n",
            " ures)                                                           \n",
            "                                                                 \n",
            " h1 (Dense)                  multiple                  192       \n",
            "                                                                 \n",
            " h2 (Dense)                  multiple                  264       \n",
            "                                                                 \n",
            " output (Dense)              multiple                  9         \n",
            "                                                                 \n",
            "=================================================================\n",
            "Total params: 465\n",
            "Trainable params: 465\n",
            "Non-trainable params: 0\n",
            "_________________________________________________________________\n"
          ]
        }
      ]
    },
    {
      "cell_type": "code",
      "source": [
        "RMSE_COLS = [\"rmse\", \"val_rmse\"]\n",
        "\n",
        "pd.DataFrame(history.history)[RMSE_COLS].plot()"
      ],
      "metadata": {
        "colab": {
          "base_uri": "https://localhost:8080/",
          "height": 448
        },
        "id": "u0nDZHeZnxA1",
        "outputId": "f9c537d8-a591-45d0-ca17-f1f7581b36ae"
      },
      "execution_count": 46,
      "outputs": [
        {
          "output_type": "execute_result",
          "data": {
            "text/plain": [
              "<Axes: >"
            ]
          },
          "metadata": {},
          "execution_count": 46
        },
        {
          "output_type": "display_data",
          "data": {
            "text/plain": [
              "<Figure size 640x480 with 1 Axes>"
            ],
            "image/png": "[encoded data removed]"
          },
          "metadata": {}
        }
      ]
    },
    {
      "cell_type": "code",
      "source": [
        "LOSS_COLS = [\"loss\", \"val_loss\"]\n",
        "\n",
        "pd.DataFrame(history.history)[LOSS_COLS].plot()"
      ],
      "metadata": {
        "colab": {
          "base_uri": "https://localhost:8080/",
          "height": 448
        },
        "id": "5Chr_Vwkn2sd",
        "outputId": "49c3913c-cd08-41ae-bad6-d6ce268d0648"
      },
      "execution_count": 47,
      "outputs": [
        {
          "output_type": "execute_result",
          "data": {
            "text/plain": [
              "<Axes: >"
            ]
          },
          "metadata": {},
          "execution_count": 47
        },
        {
          "output_type": "display_data",
          "data": {
            "text/plain": [
              "<Figure size 640x480 with 1 Axes>"
            ],
            "image/png": "[encoded data removed]"
          },
          "metadata": {}
        }
      ]
    }
  ]
}
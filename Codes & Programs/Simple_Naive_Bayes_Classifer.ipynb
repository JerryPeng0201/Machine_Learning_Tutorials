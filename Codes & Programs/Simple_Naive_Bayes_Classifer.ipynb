{
  "nbformat": 4,
  "nbformat_minor": 0,
  "metadata": {
    "colab": {
      "provenance": [],
      "toc_visible": true
    },
    "kernelspec": {
      "name": "python3",
      "display_name": "Python 3"
    },
    "language_info": {
      "name": "python"
    }
  },
  "cells": [
    {
      "cell_type": "code",
      "source": [
        "import numpy as np"
      ],
      "metadata": {
        "id": "LDDr2kdaqYXf"
      },
      "execution_count": 2,
      "outputs": []
    },
    {
      "cell_type": "markdown",
      "source": [
        "# Simple Naive Bayes Classifer"
      ],
      "metadata": {
        "id": "kUbGT040qJdj"
      }
    },
    {
      "cell_type": "markdown",
      "source": [
        "##Example #1"
      ],
      "metadata": {
        "id": "GUfouCJoq208"
      }
    },
    {
      "cell_type": "code",
      "execution_count": 4,
      "metadata": {
        "colab": {
          "base_uri": "https://localhost:8080/"
        },
        "id": "QGflSIo2qCq4",
        "outputId": "275b6aff-8d0d-4b03-81b0-1eeee5b4543f"
      },
      "outputs": [
        {
          "output_type": "stream",
          "name": "stdout",
          "text": [
            "['yes']\n"
          ]
        }
      ],
      "source": [
        "class SimpleNaiveBayes:\n",
        "    def __init__(self):\n",
        "        self.class_probs = {}\n",
        "        self.feature_probs = {}\n",
        "\n",
        "    def fit(self, X, y):\n",
        "        # Calculate class probabilities\n",
        "        total_samples = len(y)\n",
        "        self.class_probs = {cls: sum(y == cls) / total_samples for cls in set(y)}\n",
        "\n",
        "        # Calculate feature probabilities for each class\n",
        "        self.feature_probs = {}\n",
        "        for cls in set(y):\n",
        "            self.feature_probs[cls] = {}\n",
        "            for feature_index in range(X.shape[1]):\n",
        "                feature_values = set(X[:, feature_index])\n",
        "                self.feature_probs[cls][feature_index] = {}\n",
        "                for value in feature_values:\n",
        "                    num = sum((X[:, feature_index] == value) & (y == cls))\n",
        "                    den = sum(y == cls)\n",
        "                    self.feature_probs[cls][feature_index][value] = num / den\n",
        "\n",
        "    def predict(self, X):\n",
        "        predictions = []\n",
        "        for sample in X:\n",
        "            probs = {}\n",
        "            for cls, class_prob in self.class_probs.items():\n",
        "                probs[cls] = class_prob\n",
        "                for feature_index, value in enumerate(sample):\n",
        "                    probs[cls] *= self.feature_probs[cls][feature_index].get(value, 1e-10)  # Small value to avoid zero\n",
        "            predictions.append(max(probs, key=probs.get))\n",
        "        return predictions\n",
        "\n",
        "# Example usage:\n",
        "X = [\n",
        "    ['sunny', 'hot', 'high', 'weak'],\n",
        "    ['sunny', 'hot', 'high', 'strong'],\n",
        "    ['overcast', 'hot', 'high', 'weak'],\n",
        "    ['rain', 'mild', 'high', 'weak'],\n",
        "    ['rain', 'cool', 'normal', 'weak'],\n",
        "    ['rain', 'cool', 'normal', 'strong'],\n",
        "    ['overcast', 'cool', 'normal', 'strong'],\n",
        "    ['sunny', 'mild', 'high', 'weak'],\n",
        "    ['sunny', 'cool', 'normal', 'weak'],\n",
        "    ['rain', 'mild', 'normal', 'weak'],\n",
        "    ['sunny', 'mild', 'normal', 'strong'],\n",
        "    ['overcast', 'mild', 'high', 'strong'],\n",
        "    ['overcast', 'hot', 'normal', 'weak'],\n",
        "    ['rain', 'mild', 'high', 'strong']\n",
        "]\n",
        "y = ['no', 'no', 'yes', 'yes', 'yes', 'no', 'yes', 'no', 'yes', 'yes', 'yes', 'yes', 'yes', 'no']\n",
        "\n",
        "X = np.array(X)\n",
        "y = np.array(y)\n",
        "\n",
        "nb = SimpleNaiveBayes()\n",
        "nb.fit(X, y)\n",
        "predictions = nb.predict([['rain', 'mild', 'high', 'weak']])\n",
        "print(predictions)  # ['yes']"
      ]
    },
    {
      "cell_type": "markdown",
      "source": [
        "##Example #2"
      ],
      "metadata": {
        "id": "J-Ew9hKXq5O8"
      }
    },
    {
      "cell_type": "code",
      "source": [
        "import numpy as np\n",
        "\n",
        "class NaiveBayes:\n",
        "    def __init__(self):\n",
        "        self.class_probs = {}\n",
        "        self.conditional_probs = {}\n",
        "\n",
        "    def fit(self, X, y):\n",
        "        # Calculate class probabilities\n",
        "        unique_classes = np.unique(y)\n",
        "        for cls in unique_classes:\n",
        "            self.class_probs[cls] = np.mean(y == cls)\n",
        "            self.conditional_probs[cls] = {}\n",
        "            for i in range(X.shape[1]):\n",
        "                feature_values = np.unique(X[:, i])\n",
        "                self.conditional_probs[cls][i] = {}\n",
        "                for value in feature_values:\n",
        "                    self.conditional_probs[cls][i][value] = np.mean(X[y == cls, i] == value)\n",
        "\n",
        "    def predict(self, X):\n",
        "        predictions = []\n",
        "        for x in X:\n",
        "            probs = {}\n",
        "            for cls, class_prob in self.class_probs.items():\n",
        "                probs[cls] = class_prob\n",
        "                for i, value in enumerate(x):\n",
        "                    probs[cls] *= self.conditional_probs[cls][i].get(value, 1e-10)  # Small value to avoid zero probability\n",
        "            predictions.append(max(probs, key=probs.get))\n",
        "        return predictions\n",
        "\n",
        "# Example usage:\n",
        "X = np.array([[1, 'S'], [1, 'M'], [1, 'M'], [1, 'S'], [1, 'S'], [2, 'S'], [2, 'M'], [2, 'M'], [2, 'L'], [2, 'L'], [3, 'L'], [3, 'M'], [3, 'M'], [3, 'L'], [3, 'L']])\n",
        "y = np.array([-1, -1, 1, 1, -1, -1, -1, 1, 1, 1, 1, 1, 1, 1, -1])\n",
        "model = NaiveBayes()\n",
        "model.fit(X, y)\n",
        "print(model.predict([[2, 'S']]))\n"
      ],
      "metadata": {
        "colab": {
          "base_uri": "https://localhost:8080/"
        },
        "id": "8JBHAzkoq652",
        "outputId": "aa5babae-6180-481b-ed9e-c58cde8b2f5d"
      },
      "execution_count": 5,
      "outputs": [
        {
          "output_type": "stream",
          "name": "stdout",
          "text": [
            "[-1]\n"
          ]
        }
      ]
    }
  ]
}